{
  "nbformat": 4,
  "nbformat_minor": 0,
  "metadata": {
    "colab": {
      "provenance": [],
      "authorship_tag": "ABX9TyPaZ0Xx41Fl9SGvJ8q+MFUt",
      "include_colab_link": true
    },
    "kernelspec": {
      "name": "python3",
      "display_name": "Python 3"
    },
    "language_info": {
      "name": "python"
    }
  },
  "cells": [
    {
      "cell_type": "markdown",
      "metadata": {
        "id": "view-in-github",
        "colab_type": "text"
      },
      "source": [
        "<a href=\"https://colab.research.google.com/github/ImitatedSky/Github-Colab/blob/1220/pytorch.ipynb\" target=\"_parent\"><img src=\"https://colab.research.google.com/assets/colab-badge.svg\" alt=\"Open In Colab\"/></a>"
      ]
    },
    {
      "cell_type": "code",
      "execution_count": 6,
      "metadata": {
        "id": "Iw8466tEccKt"
      },
      "outputs": [],
      "source": [
        "import torch"
      ]
    },
    {
      "cell_type": "code",
      "source": [
        "# 運算位置\n",
        "al = torch.rand(3,4)\n",
        "print(al.device) \n",
        "# 運算位置\n",
        "device = (torch.device('cuda')if torch.cuda.is_available()else torch.device('cpu'))\n",
        "print(device)\n",
        "# tensor\n",
        "al = torch.Tensor([1,2])\n",
        "print(al.type())"
      ],
      "metadata": {
        "colab": {
          "base_uri": "https://localhost:8080/"
        },
        "id": "PbkhZVnJdk9L",
        "outputId": "0fbeaf67-a6c5-4cce-fee4-3af5fb8ddd03"
      },
      "execution_count": 7,
      "outputs": [
        {
          "output_type": "stream",
          "name": "stdout",
          "text": [
            "cpu\n",
            "cpu\n",
            "torch.FloatTensor\n"
          ]
        }
      ]
    },
    {
      "cell_type": "code",
      "source": [
        "a1 = torch.Tensor([1,2])\n",
        "a2 = torch.Tensor([10,9])\n",
        "print( a1 + a2)"
      ],
      "metadata": {
        "colab": {
          "base_uri": "https://localhost:8080/"
        },
        "id": "S9oj7gX7h5mp",
        "outputId": "b0019450-8f13-4919-9994-18b4f258fe3b"
      },
      "execution_count": 8,
      "outputs": [
        {
          "output_type": "stream",
          "name": "stdout",
          "text": [
            "tensor([11., 11.])\n"
          ]
        }
      ]
    },
    {
      "cell_type": "code",
      "source": [
        "a = torch.randn(4)\n",
        "print(a)\n",
        "torch.add(a, 20)\n",
        "print(a)\n",
        "print(torch.add(a, 20))\n",
        "print('-----')\n",
        "b = torch.randn(4)\n",
        "print(b)\n",
        "c = torch.randn(4, 1)\n",
        "print(c)\n",
        "print('-----')\n",
        "print(torch.add(b, c, alpha=10))"
      ],
      "metadata": {
        "colab": {
          "base_uri": "https://localhost:8080/"
        },
        "id": "BQEDTJc3irlj",
        "outputId": "b51f0b0a-3922-4546-9656-1296480f5cc3"
      },
      "execution_count": 9,
      "outputs": [
        {
          "output_type": "stream",
          "name": "stdout",
          "text": [
            "tensor([-1.3791, -0.8328,  0.5748,  1.6875])\n",
            "tensor([-1.3791, -0.8328,  0.5748,  1.6875])\n",
            "tensor([18.6209, 19.1672, 20.5748, 21.6875])\n",
            "-----\n",
            "tensor([-1.6877, -1.5316, -0.1381, -1.7000])\n",
            "tensor([[ 0.8688],\n",
            "        [-0.3548],\n",
            "        [-0.8999],\n",
            "        [-1.0977]])\n",
            "-----\n",
            "tensor([[  7.0004,   7.1565,   8.5500,   6.9881],\n",
            "        [ -5.2356,  -5.0795,  -3.6860,  -5.2479],\n",
            "        [-10.6870, -10.5309,  -9.1374, -10.6993],\n",
            "        [-12.6644, -12.5083, -11.1148, -12.6767]])\n"
          ]
        }
      ]
    },
    {
      "cell_type": "code",
      "source": [],
      "metadata": {
        "id": "gTwZm3qIi3Hp"
      },
      "execution_count": 9,
      "outputs": []
    }
  ]
}