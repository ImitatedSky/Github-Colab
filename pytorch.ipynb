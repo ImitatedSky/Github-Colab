{
  "nbformat": 4,
  "nbformat_minor": 0,
  "metadata": {
    "colab": {
      "provenance": [],
      "authorship_tag": "ABX9TyNk/9C39OtuQTL2lX3je3ik",
      "include_colab_link": true
    },
    "kernelspec": {
      "name": "python3",
      "display_name": "Python 3"
    },
    "language_info": {
      "name": "python"
    },
    "accelerator": "GPU",
    "gpuClass": "standard"
  },
  "cells": [
    {
      "cell_type": "markdown",
      "metadata": {
        "id": "view-in-github",
        "colab_type": "text"
      },
      "source": [
        "<a href=\"https://colab.research.google.com/github/ImitatedSky/Github-Colab/blob/main/pytorch.ipynb\" target=\"_parent\"><img src=\"https://colab.research.google.com/assets/colab-badge.svg\" alt=\"Open In Colab\"/></a>"
      ]
    },
    {
      "cell_type": "code",
      "execution_count": null,
      "metadata": {
        "id": "nWsZfEX7qJC6"
      },
      "outputs": [],
      "source": [
        "import torch"
      ]
    },
    {
      "cell_type": "code",
      "source": [
        "# 運算位置\n",
        "al = torch.rand(3,4)\n",
        "print(al.device) \n",
        "# 運算位置\n",
        "device = (torch.device('cuda')if torch.cuda.is_available()else torch.device('cpu'))\n",
        "print(device)\n",
        "# tensor\n",
        "al = torch.Tensor([1,2])\n",
        "print(al.type())"
      ],
      "metadata": {
        "colab": {
          "base_uri": "https://localhost:8080/"
        },
        "id": "G0ATbglMlFFe",
        "outputId": "54913d64-4a5c-483d-d53e-0699fd07094d"
      },
      "execution_count": null,
      "outputs": [
        {
          "output_type": "stream",
          "name": "stdout",
          "text": [
            "cpu\n",
            "cuda\n",
            "torch.FloatTensor\n"
          ]
        }
      ]
    },
    {
      "cell_type": "code",
      "source": [
        "a1 = torch.Tensor([1,2])\n",
        "a2 = torch.Tensor([10,9])\n",
        "print( a1 + a2)"
      ],
      "metadata": {
        "id": "iPQxQnTzlFYL"
      },
      "execution_count": null,
      "outputs": []
    },
    {
      "cell_type": "code",
      "source": [
        "a = torch.randn(4)\n",
        "print(a)\n",
        "torch.add(a, 20)\n",
        "print(a)\n",
        "print(torch.add(a, 20))\n",
        "print('-----')\n",
        "b = torch.randn(4)\n",
        "print(b)\n",
        "c = torch.randn(4, 1)\n",
        "print(c)\n",
        "print('-----')\n",
        "print(torch.add(b, c, alpha=10))"
      ],
      "metadata": {
        "id": "m6ne_SYJ84FU"
      },
      "execution_count": null,
      "outputs": []
    },
    {
      "cell_type": "code",
      "source": [
        "# 1123"
      ],
      "metadata": {
        "id": "wp8XNyAhhrLq"
      },
      "execution_count": null,
      "outputs": []
    }
  ]
}