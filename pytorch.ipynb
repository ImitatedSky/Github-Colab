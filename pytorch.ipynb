{
  "nbformat": 4,
  "nbformat_minor": 0,
  "metadata": {
    "colab": {
      "provenance": [],
      "authorship_tag": "ABX9TyPN0dg6ZVJEVeA0mQo+Jbye",
      "include_colab_link": true
    },
    "kernelspec": {
      "name": "python3",
      "display_name": "Python 3"
    },
    "language_info": {
      "name": "python"
    },
    "accelerator": "GPU",
    "gpuClass": "standard"
  },
  "cells": [
    {
      "cell_type": "markdown",
      "metadata": {
        "id": "view-in-github",
        "colab_type": "text"
      },
      "source": [
        "<a href=\"https://colab.research.google.com/github/ImitatedSky/Github-Colab/blob/main/pytorch.ipynb\" target=\"_parent\"><img src=\"https://colab.research.google.com/assets/colab-badge.svg\" alt=\"Open In Colab\"/></a>"
      ]
    },
    {
      "cell_type": "code",
      "execution_count": 1,
      "metadata": {
        "id": "nWsZfEX7qJC6"
      },
      "outputs": [],
      "source": [
        "import torch"
      ]
    },
    {
      "cell_type": "code",
      "source": [
        "# 運算位置\n",
        "al = torch.rand(3,4)\n",
        "print(al.device) \n",
        "# 運算位置\n",
        "device = (torch.device('cuda')if torch.cuda.is_available()else torch.device('cpu'))\n",
        "print(device)\n",
        "# tensor\n",
        "al = torch.Tensor([1,2])\n",
        "print(al.type())"
      ],
      "metadata": {
        "colab": {
          "base_uri": "https://localhost:8080/"
        },
        "id": "G0ATbglMlFFe",
        "outputId": "1e343665-fc76-465a-afe1-21f66c4a247a"
      },
      "execution_count": 2,
      "outputs": [
        {
          "output_type": "stream",
          "name": "stdout",
          "text": [
            "cpu\n",
            "cuda\n",
            "torch.FloatTensor\n"
          ]
        }
      ]
    },
    {
      "cell_type": "code",
      "source": [
        "a1 = torch.Tensor([1,2])\n",
        "a2 = torch.Tensor([10,9])\n",
        "print( a1 + a2)"
      ],
      "metadata": {
        "id": "iPQxQnTzlFYL",
        "outputId": "42388b6b-fb5d-4e72-aa18-cb92dd9a38e3",
        "colab": {
          "base_uri": "https://localhost:8080/"
        }
      },
      "execution_count": 3,
      "outputs": [
        {
          "output_type": "stream",
          "name": "stdout",
          "text": [
            "tensor([11., 11.])\n"
          ]
        }
      ]
    },
    {
      "cell_type": "code",
      "source": [
        "a = torch.randn(4)\n",
        "print(a)\n",
        "torch.add(a, 20)\n",
        "print(a)\n",
        "print(torch.add(a, 20))\n",
        "print('-----')\n",
        "b = torch.randn(4)\n",
        "print(b)\n",
        "c = torch.randn(4, 1)\n",
        "print(c)\n",
        "print('-----')\n",
        "print(torch.add(b, c, alpha=1))"
      ],
      "metadata": {
        "id": "m6ne_SYJ84FU",
        "outputId": "78be8ca1-87ed-4cad-e3d0-62f4977009e4",
        "colab": {
          "base_uri": "https://localhost:8080/"
        }
      },
      "execution_count": 7,
      "outputs": [
        {
          "output_type": "stream",
          "name": "stdout",
          "text": [
            "tensor([ 0.1108,  1.7395,  0.6869, -1.9253])\n",
            "tensor([ 0.1108,  1.7395,  0.6869, -1.9253])\n",
            "tensor([20.1108, 21.7395, 20.6869, 18.0747])\n",
            "-----\n",
            "tensor([ 1.8511, -1.5224, -0.1772,  0.4665])\n",
            "tensor([[-0.5175],\n",
            "        [-1.2173],\n",
            "        [-1.5547],\n",
            "        [ 0.6473]])\n",
            "-----\n",
            "tensor([[ 1.3336, -2.0398, -0.6947, -0.0510],\n",
            "        [ 0.6338, -2.7397, -1.3945, -0.7508],\n",
            "        [ 0.2963, -3.0771, -1.7319, -1.0882],\n",
            "        [ 2.4984, -0.8750,  0.4701,  1.1138]])\n"
          ]
        }
      ]
    },
    {
      "cell_type": "code",
      "source": [
        "# 1123"
      ],
      "metadata": {
        "id": "wp8XNyAhhrLq"
      },
      "execution_count": 5,
      "outputs": []
    }
  ]
}