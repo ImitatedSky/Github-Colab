{
  "nbformat": 4,
  "nbformat_minor": 0,
  "metadata": {
    "colab": {
      "provenance": [],
      "authorship_tag": "ABX9TyPaZ0Xx41Fl9SGvJ8q+MFUt",
      "include_colab_link": true
    },
    "kernelspec": {
      "name": "python3",
      "display_name": "Python 3"
    },
    "language_info": {
      "name": "python"
    }
  },
  "cells": [
    {
      "cell_type": "markdown",
      "metadata": {
        "id": "view-in-github",
        "colab_type": "text"
      },
      "source": [
        "<a href=\"https://colab.research.google.com/github/ImitatedSky/Github-Colab/blob/1220/pytorch.ipynb\" target=\"_parent\"><img src=\"https://colab.research.google.com/assets/colab-badge.svg\" alt=\"Open In Colab\"/></a>"
      ]
    },
    {
      "cell_type": "code",
      "execution_count": 1,
      "metadata": {
        "id": "Iw8466tEccKt"
      },
      "outputs": [],
      "source": [
        "import torch"
      ]
    },
    {
      "cell_type": "code",
      "source": [
        "# 運算位置\n",
        "al = torch.rand(3,4)\n",
        "print(al.device) \n",
        "# 運算位置\n",
        "device = (torch.device('cuda')if torch.cuda.is_available()else torch.device('cpu'))\n",
        "print(device)\n",
        "# tensor\n",
        "al = torch.Tensor([1,2])\n",
        "print(al.type())"
      ],
      "metadata": {
        "colab": {
          "base_uri": "https://localhost:8080/"
        },
        "id": "PbkhZVnJdk9L",
        "outputId": "1735609f-4e38-4161-ec4c-e29c5a0eb962"
      },
      "execution_count": 2,
      "outputs": [
        {
          "output_type": "stream",
          "name": "stdout",
          "text": [
            "cpu\n",
            "cpu\n",
            "torch.FloatTensor\n"
          ]
        }
      ]
    },
    {
      "cell_type": "code",
      "source": [
        "a1 = torch.Tensor([1,2])\n",
        "a2 = torch.Tensor([10,9])\n",
        "print( a1 + a2)"
      ],
      "metadata": {
        "colab": {
          "base_uri": "https://localhost:8080/"
        },
        "id": "S9oj7gX7h5mp",
        "outputId": "7a09c51e-3850-4df0-d054-eb2bcf917880"
      },
      "execution_count": 3,
      "outputs": [
        {
          "output_type": "stream",
          "name": "stdout",
          "text": [
            "tensor([11., 11.])\n"
          ]
        }
      ]
    },
    {
      "cell_type": "code",
      "source": [
        "a = torch.randn(4)\n",
        "print(a)\n",
        "torch.add(a, 20)\n",
        "print(a)\n",
        "print(torch.add(a, 20))\n",
        "print('-----')\n",
        "b = torch.randn(4)\n",
        "print(b)\n",
        "c = torch.randn(4, 1)\n",
        "print(c)\n",
        "print('-----')\n",
        "print(torch.add(b, c, alpha=10))"
      ],
      "metadata": {
        "colab": {
          "base_uri": "https://localhost:8080/"
        },
        "id": "BQEDTJc3irlj",
        "outputId": "d8f99a4d-14ff-44de-d1cf-59ab6f852adf"
      },
      "execution_count": 4,
      "outputs": [
        {
          "output_type": "stream",
          "name": "stdout",
          "text": [
            "tensor([ 0.2317,  0.3182, -1.1399, -0.4502])\n",
            "tensor([ 0.2317,  0.3182, -1.1399, -0.4502])\n",
            "tensor([20.2317, 20.3182, 18.8601, 19.5498])\n",
            "-----\n",
            "tensor([-0.5260, -0.0182, -0.1894, -0.7842])\n",
            "tensor([[1.2666],\n",
            "        [0.5011],\n",
            "        [0.0338],\n",
            "        [0.4274]])\n",
            "-----\n",
            "tensor([[12.1397, 12.6475, 12.4764, 11.8815],\n",
            "        [ 4.4850,  4.9928,  4.8217,  4.2269],\n",
            "        [-0.1879,  0.3199,  0.1488, -0.4461],\n",
            "        [ 3.7482,  4.2560,  4.0848,  3.4900]])\n"
          ]
        }
      ]
    },
    {
      "cell_type": "code",
      "source": [],
      "metadata": {
        "id": "gTwZm3qIi3Hp"
      },
      "execution_count": 4,
      "outputs": []
    }
  ]
}