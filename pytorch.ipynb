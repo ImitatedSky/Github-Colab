{
  "nbformat": 4,
  "nbformat_minor": 0,
  "metadata": {
    "colab": {
      "provenance": [],
      "authorship_tag": "ABX9TyPaZ0Xx41Fl9SGvJ8q+MFUt",
      "include_colab_link": true
    },
    "kernelspec": {
      "name": "python3",
      "display_name": "Python 3"
    },
    "language_info": {
      "name": "python"
    }
  },
  "cells": [
    {
      "cell_type": "markdown",
      "metadata": {
        "id": "view-in-github",
        "colab_type": "text"
      },
      "source": [
        "<a href=\"https://colab.research.google.com/github/ImitatedSky/Github-Colab/blob/1220/pytorch.ipynb\" target=\"_parent\"><img src=\"https://colab.research.google.com/assets/colab-badge.svg\" alt=\"Open In Colab\"/></a>"
      ]
    },
    {
      "cell_type": "code",
      "execution_count": 1,
      "metadata": {
        "id": "Iw8466tEccKt"
      },
      "outputs": [],
      "source": [
        "import torch"
      ]
    },
    {
      "cell_type": "code",
      "source": [
        "# 運算位置\n",
        "al = torch.rand(3,4)\n",
        "print(al.device) \n",
        "# 運算位置\n",
        "device = (torch.device('cuda')if torch.cuda.is_available()else torch.device('cpu'))\n",
        "print(device)\n",
        "# tensor\n",
        "al = torch.Tensor([1,2])\n",
        "print(al.type())"
      ],
      "metadata": {
        "colab": {
          "base_uri": "https://localhost:8080/"
        },
        "id": "PbkhZVnJdk9L",
        "outputId": "af87836f-d9d5-4ffa-cfe0-4d8238d6499d"
      },
      "execution_count": 5,
      "outputs": [
        {
          "output_type": "stream",
          "name": "stdout",
          "text": [
            "cpu\n",
            "cpu\n",
            "torch.FloatTensor\n"
          ]
        }
      ]
    },
    {
      "cell_type": "code",
      "source": [
        "a1 = torch.Tensor([1,2])\n",
        "a2 = torch.Tensor([10,9])\n",
        "print( a1 + a2)"
      ],
      "metadata": {
        "colab": {
          "base_uri": "https://localhost:8080/"
        },
        "id": "S9oj7gX7h5mp",
        "outputId": "1da670f9-420b-4e93-e3d9-3145d46e1945"
      },
      "execution_count": 8,
      "outputs": [
        {
          "output_type": "stream",
          "name": "stdout",
          "text": [
            "tensor([11., 11.])\n"
          ]
        }
      ]
    },
    {
      "cell_type": "code",
      "source": [
        "a = torch.randn(4)\n",
        "print(a)\n",
        "torch.add(a, 20)\n",
        "print(a)\n",
        "print(torch.add(a, 20))\n",
        "print('-----')\n",
        "b = torch.randn(4)\n",
        "print(b)\n",
        "c = torch.randn(4, 1)\n",
        "print(c)\n",
        "print('-----')\n",
        "print(torch.add(b, c, alpha=10))"
      ],
      "metadata": {
        "colab": {
          "base_uri": "https://localhost:8080/"
        },
        "id": "BQEDTJc3irlj",
        "outputId": "ed856c7a-10d5-4d5d-fae3-4d9110bb8ee5"
      },
      "execution_count": 21,
      "outputs": [
        {
          "output_type": "stream",
          "name": "stdout",
          "text": [
            "tensor([ 0.4613, -0.3627, -1.1922, -1.2197])\n",
            "tensor([ 0.4613, -0.3627, -1.1922, -1.2197])\n",
            "tensor([20.4613, 19.6373, 18.8078, 18.7803])\n",
            "-----\n",
            "tensor([-0.4829,  1.1731, -1.2740, -0.0894])\n",
            "tensor([[0.1828],\n",
            "        [0.5769],\n",
            "        [0.5843],\n",
            "        [0.4488]])\n",
            "-----\n",
            "tensor([[1.3446, 3.0007, 0.5536, 1.7382],\n",
            "        [5.2864, 6.9424, 4.4953, 5.6799],\n",
            "        [5.3598, 7.0159, 4.5687, 5.7533],\n",
            "        [4.0054, 5.6615, 3.2143, 4.3989]])\n"
          ]
        }
      ]
    },
    {
      "cell_type": "code",
      "source": [],
      "metadata": {
        "id": "gTwZm3qIi3Hp"
      },
      "execution_count": null,
      "outputs": []
    }
  ]
}