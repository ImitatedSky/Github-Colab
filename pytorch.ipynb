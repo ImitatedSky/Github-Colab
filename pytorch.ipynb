{
  "nbformat": 4,
  "nbformat_minor": 0,
  "metadata": {
    "colab": {
      "provenance": [],
      "authorship_tag": "ABX9TyOG1OWam7rMeliQLGSPmbyW",
      "include_colab_link": true
    },
    "kernelspec": {
      "name": "python3",
      "display_name": "Python 3"
    },
    "language_info": {
      "name": "python"
    },
    "accelerator": "GPU",
    "gpuClass": "standard"
  },
  "cells": [
    {
      "cell_type": "markdown",
      "metadata": {
        "id": "view-in-github",
        "colab_type": "text"
      },
      "source": [
        "<a href=\"https://colab.research.google.com/github/ImitatedSky/Github-Colab/blob/main/pytorch.ipynb\" target=\"_parent\"><img src=\"https://colab.research.google.com/assets/colab-badge.svg\" alt=\"Open In Colab\"/></a>"
      ]
    },
    {
      "cell_type": "code",
      "execution_count": 1,
      "metadata": {
        "id": "nWsZfEX7qJC6"
      },
      "outputs": [],
      "source": [
        "import torch"
      ]
    },
    {
      "cell_type": "code",
      "source": [
        "# 運算位置\n",
        "al = torch.rand(3,4)\n",
        "print(al.device) \n",
        "# 運算位置\n",
        "device = (torch.device('cuda')if torch.cuda.is_available()else torch.device('cpu'))\n",
        "print(device)\n",
        "# tensor\n",
        "al = torch.Tensor([1,2])\n",
        "print(al.type())"
      ],
      "metadata": {
        "colab": {
          "base_uri": "https://localhost:8080/"
        },
        "id": "G0ATbglMlFFe",
        "outputId": "c2624914-0b6b-48a6-ab00-fb8cd422ba77"
      },
      "execution_count": 2,
      "outputs": [
        {
          "output_type": "stream",
          "name": "stdout",
          "text": [
            "cpu\n",
            "cuda\n",
            "torch.FloatTensor\n"
          ]
        }
      ]
    },
    {
      "cell_type": "code",
      "source": [
        "# testtest"
      ],
      "metadata": {
        "id": "iPQxQnTzlFYL"
      },
      "execution_count": 2,
      "outputs": []
    },
    {
      "cell_type": "code",
      "source": [],
      "metadata": {
        "id": "m6ne_SYJ84FU"
      },
      "execution_count": 2,
      "outputs": []
    }
  ]
}